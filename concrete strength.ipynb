{
 "cells": [
  {
   "cell_type": "code",
   "execution_count": 1,
   "id": "1acc6ca1-538f-47a7-ad48-9c19b1a807a3",
   "metadata": {},
   "outputs": [],
   "source": [
    "import pandas as pd\n",
    "import numpy as np\n",
    "import matplotlib.pyplot as plt\n",
    "import seaborn as sns"
   ]
  },
  {
   "cell_type": "code",
   "execution_count": 2,
   "id": "3296a9d8-01d9-45a7-a9a9-fbb70e0fd4d2",
   "metadata": {},
   "outputs": [],
   "source": [
    "df=pd.read_csv(\"C:\\\\Users\\\\ankom\\\\Downloads\\\\Concrete_Data_Yeh.csv\")"
   ]
  },
  {
   "cell_type": "code",
   "execution_count": 3,
   "id": "6ce3338f-4a3a-488c-a100-e43e7a547d53",
   "metadata": {},
   "outputs": [
    {
     "data": {
      "text/html": [
       "<div>\n",
       "<style scoped>\n",
       "    .dataframe tbody tr th:only-of-type {\n",
       "        vertical-align: middle;\n",
       "    }\n",
       "\n",
       "    .dataframe tbody tr th {\n",
       "        vertical-align: top;\n",
       "    }\n",
       "\n",
       "    .dataframe thead th {\n",
       "        text-align: right;\n",
       "    }\n",
       "</style>\n",
       "<table border=\"1\" class=\"dataframe\">\n",
       "  <thead>\n",
       "    <tr style=\"text-align: right;\">\n",
       "      <th></th>\n",
       "      <th>cement</th>\n",
       "      <th>slag</th>\n",
       "      <th>flyash</th>\n",
       "      <th>water</th>\n",
       "      <th>superplasticizer</th>\n",
       "      <th>coarseaggregate</th>\n",
       "      <th>fineaggregate</th>\n",
       "      <th>age</th>\n",
       "      <th>csMPa</th>\n",
       "    </tr>\n",
       "  </thead>\n",
       "  <tbody>\n",
       "    <tr>\n",
       "      <th>0</th>\n",
       "      <td>540.0</td>\n",
       "      <td>0.0</td>\n",
       "      <td>0.0</td>\n",
       "      <td>162.0</td>\n",
       "      <td>2.5</td>\n",
       "      <td>1040.0</td>\n",
       "      <td>676.0</td>\n",
       "      <td>28</td>\n",
       "      <td>79.99</td>\n",
       "    </tr>\n",
       "    <tr>\n",
       "      <th>1</th>\n",
       "      <td>540.0</td>\n",
       "      <td>0.0</td>\n",
       "      <td>0.0</td>\n",
       "      <td>162.0</td>\n",
       "      <td>2.5</td>\n",
       "      <td>1055.0</td>\n",
       "      <td>676.0</td>\n",
       "      <td>28</td>\n",
       "      <td>61.89</td>\n",
       "    </tr>\n",
       "    <tr>\n",
       "      <th>2</th>\n",
       "      <td>332.5</td>\n",
       "      <td>142.5</td>\n",
       "      <td>0.0</td>\n",
       "      <td>228.0</td>\n",
       "      <td>0.0</td>\n",
       "      <td>932.0</td>\n",
       "      <td>594.0</td>\n",
       "      <td>270</td>\n",
       "      <td>40.27</td>\n",
       "    </tr>\n",
       "    <tr>\n",
       "      <th>3</th>\n",
       "      <td>332.5</td>\n",
       "      <td>142.5</td>\n",
       "      <td>0.0</td>\n",
       "      <td>228.0</td>\n",
       "      <td>0.0</td>\n",
       "      <td>932.0</td>\n",
       "      <td>594.0</td>\n",
       "      <td>365</td>\n",
       "      <td>41.05</td>\n",
       "    </tr>\n",
       "    <tr>\n",
       "      <th>4</th>\n",
       "      <td>198.6</td>\n",
       "      <td>132.4</td>\n",
       "      <td>0.0</td>\n",
       "      <td>192.0</td>\n",
       "      <td>0.0</td>\n",
       "      <td>978.4</td>\n",
       "      <td>825.5</td>\n",
       "      <td>360</td>\n",
       "      <td>44.30</td>\n",
       "    </tr>\n",
       "    <tr>\n",
       "      <th>...</th>\n",
       "      <td>...</td>\n",
       "      <td>...</td>\n",
       "      <td>...</td>\n",
       "      <td>...</td>\n",
       "      <td>...</td>\n",
       "      <td>...</td>\n",
       "      <td>...</td>\n",
       "      <td>...</td>\n",
       "      <td>...</td>\n",
       "    </tr>\n",
       "    <tr>\n",
       "      <th>1025</th>\n",
       "      <td>276.4</td>\n",
       "      <td>116.0</td>\n",
       "      <td>90.3</td>\n",
       "      <td>179.6</td>\n",
       "      <td>8.9</td>\n",
       "      <td>870.1</td>\n",
       "      <td>768.3</td>\n",
       "      <td>28</td>\n",
       "      <td>44.28</td>\n",
       "    </tr>\n",
       "    <tr>\n",
       "      <th>1026</th>\n",
       "      <td>322.2</td>\n",
       "      <td>0.0</td>\n",
       "      <td>115.6</td>\n",
       "      <td>196.0</td>\n",
       "      <td>10.4</td>\n",
       "      <td>817.9</td>\n",
       "      <td>813.4</td>\n",
       "      <td>28</td>\n",
       "      <td>31.18</td>\n",
       "    </tr>\n",
       "    <tr>\n",
       "      <th>1027</th>\n",
       "      <td>148.5</td>\n",
       "      <td>139.4</td>\n",
       "      <td>108.6</td>\n",
       "      <td>192.7</td>\n",
       "      <td>6.1</td>\n",
       "      <td>892.4</td>\n",
       "      <td>780.0</td>\n",
       "      <td>28</td>\n",
       "      <td>23.70</td>\n",
       "    </tr>\n",
       "    <tr>\n",
       "      <th>1028</th>\n",
       "      <td>159.1</td>\n",
       "      <td>186.7</td>\n",
       "      <td>0.0</td>\n",
       "      <td>175.6</td>\n",
       "      <td>11.3</td>\n",
       "      <td>989.6</td>\n",
       "      <td>788.9</td>\n",
       "      <td>28</td>\n",
       "      <td>32.77</td>\n",
       "    </tr>\n",
       "    <tr>\n",
       "      <th>1029</th>\n",
       "      <td>260.9</td>\n",
       "      <td>100.5</td>\n",
       "      <td>78.3</td>\n",
       "      <td>200.6</td>\n",
       "      <td>8.6</td>\n",
       "      <td>864.5</td>\n",
       "      <td>761.5</td>\n",
       "      <td>28</td>\n",
       "      <td>32.40</td>\n",
       "    </tr>\n",
       "  </tbody>\n",
       "</table>\n",
       "<p>1030 rows × 9 columns</p>\n",
       "</div>"
      ],
      "text/plain": [
       "      cement   slag  flyash  water  superplasticizer  coarseaggregate  \\\n",
       "0      540.0    0.0     0.0  162.0               2.5           1040.0   \n",
       "1      540.0    0.0     0.0  162.0               2.5           1055.0   \n",
       "2      332.5  142.5     0.0  228.0               0.0            932.0   \n",
       "3      332.5  142.5     0.0  228.0               0.0            932.0   \n",
       "4      198.6  132.4     0.0  192.0               0.0            978.4   \n",
       "...      ...    ...     ...    ...               ...              ...   \n",
       "1025   276.4  116.0    90.3  179.6               8.9            870.1   \n",
       "1026   322.2    0.0   115.6  196.0              10.4            817.9   \n",
       "1027   148.5  139.4   108.6  192.7               6.1            892.4   \n",
       "1028   159.1  186.7     0.0  175.6              11.3            989.6   \n",
       "1029   260.9  100.5    78.3  200.6               8.6            864.5   \n",
       "\n",
       "      fineaggregate  age  csMPa  \n",
       "0             676.0   28  79.99  \n",
       "1             676.0   28  61.89  \n",
       "2             594.0  270  40.27  \n",
       "3             594.0  365  41.05  \n",
       "4             825.5  360  44.30  \n",
       "...             ...  ...    ...  \n",
       "1025          768.3   28  44.28  \n",
       "1026          813.4   28  31.18  \n",
       "1027          780.0   28  23.70  \n",
       "1028          788.9   28  32.77  \n",
       "1029          761.5   28  32.40  \n",
       "\n",
       "[1030 rows x 9 columns]"
      ]
     },
     "execution_count": 3,
     "metadata": {},
     "output_type": "execute_result"
    }
   ],
   "source": [
    "df"
   ]
  },
  {
   "cell_type": "code",
   "execution_count": 4,
   "id": "f7493f77-1ce8-436d-91d3-3b2ac594f66b",
   "metadata": {},
   "outputs": [
    {
     "data": {
      "text/plain": [
       "(1030, 9)"
      ]
     },
     "execution_count": 4,
     "metadata": {},
     "output_type": "execute_result"
    }
   ],
   "source": [
    "df.shape"
   ]
  },
  {
   "cell_type": "code",
   "execution_count": 5,
   "id": "847a2f43-d01a-46fa-96fb-86bc56953302",
   "metadata": {},
   "outputs": [
    {
     "name": "stdout",
     "output_type": "stream",
     "text": [
      "<class 'pandas.core.frame.DataFrame'>\n",
      "RangeIndex: 1030 entries, 0 to 1029\n",
      "Data columns (total 9 columns):\n",
      " #   Column            Non-Null Count  Dtype  \n",
      "---  ------            --------------  -----  \n",
      " 0   cement            1030 non-null   float64\n",
      " 1   slag              1030 non-null   float64\n",
      " 2   flyash            1030 non-null   float64\n",
      " 3   water             1030 non-null   float64\n",
      " 4   superplasticizer  1030 non-null   float64\n",
      " 5   coarseaggregate   1030 non-null   float64\n",
      " 6   fineaggregate     1030 non-null   float64\n",
      " 7   age               1030 non-null   int64  \n",
      " 8   csMPa             1030 non-null   float64\n",
      "dtypes: float64(8), int64(1)\n",
      "memory usage: 72.6 KB\n"
     ]
    }
   ],
   "source": [
    "df.info()"
   ]
  },
  {
   "cell_type": "code",
   "execution_count": 6,
   "id": "0e9e2b2f-746a-4942-b20c-e1c718add48a",
   "metadata": {},
   "outputs": [
    {
     "data": {
      "text/plain": [
       "cement              0\n",
       "slag                0\n",
       "flyash              0\n",
       "water               0\n",
       "superplasticizer    0\n",
       "coarseaggregate     0\n",
       "fineaggregate       0\n",
       "age                 0\n",
       "csMPa               0\n",
       "dtype: int64"
      ]
     },
     "execution_count": 6,
     "metadata": {},
     "output_type": "execute_result"
    }
   ],
   "source": [
    "df.isna().sum()"
   ]
  },
  {
   "cell_type": "code",
   "execution_count": 7,
   "id": "05a4bde9-5cc9-4359-8b4e-3738e330149c",
   "metadata": {},
   "outputs": [
    {
     "data": {
      "text/plain": [
       "25"
      ]
     },
     "execution_count": 7,
     "metadata": {},
     "output_type": "execute_result"
    }
   ],
   "source": [
    "df.duplicated().sum()"
   ]
  },
  {
   "cell_type": "code",
   "execution_count": 8,
   "id": "ca5e4977-c50d-45ab-8ee1-9fc7f0c4fae2",
   "metadata": {},
   "outputs": [],
   "source": [
    "df=df.drop_duplicates()"
   ]
  },
  {
   "cell_type": "code",
   "execution_count": 9,
   "id": "f2e684bb-6cbc-4121-a4d7-6ef072a71206",
   "metadata": {},
   "outputs": [
    {
     "data": {
      "text/plain": [
       "(1005, 9)"
      ]
     },
     "execution_count": 9,
     "metadata": {},
     "output_type": "execute_result"
    }
   ],
   "source": [
    "df.shape"
   ]
  },
  {
   "cell_type": "code",
   "execution_count": 10,
   "id": "798887fd-fa28-4508-94ff-cfda1491f6b8",
   "metadata": {},
   "outputs": [
    {
     "data": {
      "text/html": [
       "<div>\n",
       "<style scoped>\n",
       "    .dataframe tbody tr th:only-of-type {\n",
       "        vertical-align: middle;\n",
       "    }\n",
       "\n",
       "    .dataframe tbody tr th {\n",
       "        vertical-align: top;\n",
       "    }\n",
       "\n",
       "    .dataframe thead th {\n",
       "        text-align: right;\n",
       "    }\n",
       "</style>\n",
       "<table border=\"1\" class=\"dataframe\">\n",
       "  <thead>\n",
       "    <tr style=\"text-align: right;\">\n",
       "      <th></th>\n",
       "      <th>cement</th>\n",
       "      <th>slag</th>\n",
       "      <th>flyash</th>\n",
       "      <th>water</th>\n",
       "      <th>superplasticizer</th>\n",
       "      <th>coarseaggregate</th>\n",
       "      <th>fineaggregate</th>\n",
       "      <th>age</th>\n",
       "      <th>csMPa</th>\n",
       "    </tr>\n",
       "  </thead>\n",
       "  <tbody>\n",
       "    <tr>\n",
       "      <th>count</th>\n",
       "      <td>1005.000000</td>\n",
       "      <td>1005.000000</td>\n",
       "      <td>1005.000000</td>\n",
       "      <td>1005.000000</td>\n",
       "      <td>1005.000000</td>\n",
       "      <td>1005.000000</td>\n",
       "      <td>1005.000000</td>\n",
       "      <td>1005.000000</td>\n",
       "      <td>1005.000000</td>\n",
       "    </tr>\n",
       "    <tr>\n",
       "      <th>mean</th>\n",
       "      <td>278.631343</td>\n",
       "      <td>72.043483</td>\n",
       "      <td>55.536318</td>\n",
       "      <td>182.075323</td>\n",
       "      <td>6.033234</td>\n",
       "      <td>974.376816</td>\n",
       "      <td>772.688259</td>\n",
       "      <td>45.856716</td>\n",
       "      <td>35.250378</td>\n",
       "    </tr>\n",
       "    <tr>\n",
       "      <th>std</th>\n",
       "      <td>104.344261</td>\n",
       "      <td>86.170807</td>\n",
       "      <td>64.207969</td>\n",
       "      <td>21.339334</td>\n",
       "      <td>5.919967</td>\n",
       "      <td>77.579667</td>\n",
       "      <td>80.340435</td>\n",
       "      <td>63.734692</td>\n",
       "      <td>16.284815</td>\n",
       "    </tr>\n",
       "    <tr>\n",
       "      <th>min</th>\n",
       "      <td>102.000000</td>\n",
       "      <td>0.000000</td>\n",
       "      <td>0.000000</td>\n",
       "      <td>121.800000</td>\n",
       "      <td>0.000000</td>\n",
       "      <td>801.000000</td>\n",
       "      <td>594.000000</td>\n",
       "      <td>1.000000</td>\n",
       "      <td>2.330000</td>\n",
       "    </tr>\n",
       "    <tr>\n",
       "      <th>25%</th>\n",
       "      <td>190.700000</td>\n",
       "      <td>0.000000</td>\n",
       "      <td>0.000000</td>\n",
       "      <td>166.600000</td>\n",
       "      <td>0.000000</td>\n",
       "      <td>932.000000</td>\n",
       "      <td>724.300000</td>\n",
       "      <td>7.000000</td>\n",
       "      <td>23.520000</td>\n",
       "    </tr>\n",
       "    <tr>\n",
       "      <th>50%</th>\n",
       "      <td>265.000000</td>\n",
       "      <td>20.000000</td>\n",
       "      <td>0.000000</td>\n",
       "      <td>185.700000</td>\n",
       "      <td>6.100000</td>\n",
       "      <td>968.000000</td>\n",
       "      <td>780.000000</td>\n",
       "      <td>28.000000</td>\n",
       "      <td>33.800000</td>\n",
       "    </tr>\n",
       "    <tr>\n",
       "      <th>75%</th>\n",
       "      <td>349.000000</td>\n",
       "      <td>142.500000</td>\n",
       "      <td>118.300000</td>\n",
       "      <td>192.900000</td>\n",
       "      <td>10.000000</td>\n",
       "      <td>1031.000000</td>\n",
       "      <td>822.200000</td>\n",
       "      <td>56.000000</td>\n",
       "      <td>44.870000</td>\n",
       "    </tr>\n",
       "    <tr>\n",
       "      <th>max</th>\n",
       "      <td>540.000000</td>\n",
       "      <td>359.400000</td>\n",
       "      <td>200.100000</td>\n",
       "      <td>247.000000</td>\n",
       "      <td>32.200000</td>\n",
       "      <td>1145.000000</td>\n",
       "      <td>992.600000</td>\n",
       "      <td>365.000000</td>\n",
       "      <td>82.600000</td>\n",
       "    </tr>\n",
       "  </tbody>\n",
       "</table>\n",
       "</div>"
      ],
      "text/plain": [
       "            cement         slag       flyash        water  superplasticizer  \\\n",
       "count  1005.000000  1005.000000  1005.000000  1005.000000       1005.000000   \n",
       "mean    278.631343    72.043483    55.536318   182.075323          6.033234   \n",
       "std     104.344261    86.170807    64.207969    21.339334          5.919967   \n",
       "min     102.000000     0.000000     0.000000   121.800000          0.000000   \n",
       "25%     190.700000     0.000000     0.000000   166.600000          0.000000   \n",
       "50%     265.000000    20.000000     0.000000   185.700000          6.100000   \n",
       "75%     349.000000   142.500000   118.300000   192.900000         10.000000   \n",
       "max     540.000000   359.400000   200.100000   247.000000         32.200000   \n",
       "\n",
       "       coarseaggregate  fineaggregate          age        csMPa  \n",
       "count      1005.000000    1005.000000  1005.000000  1005.000000  \n",
       "mean        974.376816     772.688259    45.856716    35.250378  \n",
       "std          77.579667      80.340435    63.734692    16.284815  \n",
       "min         801.000000     594.000000     1.000000     2.330000  \n",
       "25%         932.000000     724.300000     7.000000    23.520000  \n",
       "50%         968.000000     780.000000    28.000000    33.800000  \n",
       "75%        1031.000000     822.200000    56.000000    44.870000  \n",
       "max        1145.000000     992.600000   365.000000    82.600000  "
      ]
     },
     "execution_count": 10,
     "metadata": {},
     "output_type": "execute_result"
    }
   ],
   "source": [
    "df.describe()"
   ]
  },
  {
   "cell_type": "code",
   "execution_count": 11,
   "id": "5e02b83f-c626-4aee-b89f-29e0d8db795d",
   "metadata": {},
   "outputs": [
    {
     "data": {
      "text/html": [
       "<div>\n",
       "<style scoped>\n",
       "    .dataframe tbody tr th:only-of-type {\n",
       "        vertical-align: middle;\n",
       "    }\n",
       "\n",
       "    .dataframe tbody tr th {\n",
       "        vertical-align: top;\n",
       "    }\n",
       "\n",
       "    .dataframe thead th {\n",
       "        text-align: right;\n",
       "    }\n",
       "</style>\n",
       "<table border=\"1\" class=\"dataframe\">\n",
       "  <thead>\n",
       "    <tr style=\"text-align: right;\">\n",
       "      <th></th>\n",
       "      <th>cement</th>\n",
       "      <th>slag</th>\n",
       "      <th>flyash</th>\n",
       "      <th>water</th>\n",
       "      <th>superplasticizer</th>\n",
       "      <th>coarseaggregate</th>\n",
       "      <th>fineaggregate</th>\n",
       "      <th>age</th>\n",
       "      <th>csMPa</th>\n",
       "    </tr>\n",
       "  </thead>\n",
       "  <tbody>\n",
       "    <tr>\n",
       "      <th>cement</th>\n",
       "      <td>1.000000</td>\n",
       "      <td>-0.303324</td>\n",
       "      <td>-0.385610</td>\n",
       "      <td>-0.056625</td>\n",
       "      <td>0.060906</td>\n",
       "      <td>-0.086205</td>\n",
       "      <td>-0.245375</td>\n",
       "      <td>0.086348</td>\n",
       "      <td>0.488283</td>\n",
       "    </tr>\n",
       "    <tr>\n",
       "      <th>slag</th>\n",
       "      <td>-0.303324</td>\n",
       "      <td>1.000000</td>\n",
       "      <td>-0.312352</td>\n",
       "      <td>0.130262</td>\n",
       "      <td>0.019800</td>\n",
       "      <td>-0.277559</td>\n",
       "      <td>-0.289685</td>\n",
       "      <td>-0.042759</td>\n",
       "      <td>0.103374</td>\n",
       "    </tr>\n",
       "    <tr>\n",
       "      <th>flyash</th>\n",
       "      <td>-0.385610</td>\n",
       "      <td>-0.312352</td>\n",
       "      <td>1.000000</td>\n",
       "      <td>-0.283314</td>\n",
       "      <td>0.414213</td>\n",
       "      <td>-0.026468</td>\n",
       "      <td>0.090262</td>\n",
       "      <td>-0.158940</td>\n",
       "      <td>-0.080648</td>\n",
       "    </tr>\n",
       "    <tr>\n",
       "      <th>water</th>\n",
       "      <td>-0.056625</td>\n",
       "      <td>0.130262</td>\n",
       "      <td>-0.283314</td>\n",
       "      <td>1.000000</td>\n",
       "      <td>-0.646946</td>\n",
       "      <td>-0.212480</td>\n",
       "      <td>-0.444915</td>\n",
       "      <td>0.279284</td>\n",
       "      <td>-0.269624</td>\n",
       "    </tr>\n",
       "    <tr>\n",
       "      <th>superplasticizer</th>\n",
       "      <td>0.060906</td>\n",
       "      <td>0.019800</td>\n",
       "      <td>0.414213</td>\n",
       "      <td>-0.646946</td>\n",
       "      <td>1.000000</td>\n",
       "      <td>-0.241721</td>\n",
       "      <td>0.207993</td>\n",
       "      <td>-0.194076</td>\n",
       "      <td>0.344209</td>\n",
       "    </tr>\n",
       "    <tr>\n",
       "      <th>coarseaggregate</th>\n",
       "      <td>-0.086205</td>\n",
       "      <td>-0.277559</td>\n",
       "      <td>-0.026468</td>\n",
       "      <td>-0.212480</td>\n",
       "      <td>-0.241721</td>\n",
       "      <td>1.000000</td>\n",
       "      <td>-0.162187</td>\n",
       "      <td>-0.005264</td>\n",
       "      <td>-0.144717</td>\n",
       "    </tr>\n",
       "    <tr>\n",
       "      <th>fineaggregate</th>\n",
       "      <td>-0.245375</td>\n",
       "      <td>-0.289685</td>\n",
       "      <td>0.090262</td>\n",
       "      <td>-0.444915</td>\n",
       "      <td>0.207993</td>\n",
       "      <td>-0.162187</td>\n",
       "      <td>1.000000</td>\n",
       "      <td>-0.156572</td>\n",
       "      <td>-0.186448</td>\n",
       "    </tr>\n",
       "    <tr>\n",
       "      <th>age</th>\n",
       "      <td>0.086348</td>\n",
       "      <td>-0.042759</td>\n",
       "      <td>-0.158940</td>\n",
       "      <td>0.279284</td>\n",
       "      <td>-0.194076</td>\n",
       "      <td>-0.005264</td>\n",
       "      <td>-0.156572</td>\n",
       "      <td>1.000000</td>\n",
       "      <td>0.337367</td>\n",
       "    </tr>\n",
       "    <tr>\n",
       "      <th>csMPa</th>\n",
       "      <td>0.488283</td>\n",
       "      <td>0.103374</td>\n",
       "      <td>-0.080648</td>\n",
       "      <td>-0.269624</td>\n",
       "      <td>0.344209</td>\n",
       "      <td>-0.144717</td>\n",
       "      <td>-0.186448</td>\n",
       "      <td>0.337367</td>\n",
       "      <td>1.000000</td>\n",
       "    </tr>\n",
       "  </tbody>\n",
       "</table>\n",
       "</div>"
      ],
      "text/plain": [
       "                    cement      slag    flyash     water  superplasticizer  \\\n",
       "cement            1.000000 -0.303324 -0.385610 -0.056625          0.060906   \n",
       "slag             -0.303324  1.000000 -0.312352  0.130262          0.019800   \n",
       "flyash           -0.385610 -0.312352  1.000000 -0.283314          0.414213   \n",
       "water            -0.056625  0.130262 -0.283314  1.000000         -0.646946   \n",
       "superplasticizer  0.060906  0.019800  0.414213 -0.646946          1.000000   \n",
       "coarseaggregate  -0.086205 -0.277559 -0.026468 -0.212480         -0.241721   \n",
       "fineaggregate    -0.245375 -0.289685  0.090262 -0.444915          0.207993   \n",
       "age               0.086348 -0.042759 -0.158940  0.279284         -0.194076   \n",
       "csMPa             0.488283  0.103374 -0.080648 -0.269624          0.344209   \n",
       "\n",
       "                  coarseaggregate  fineaggregate       age     csMPa  \n",
       "cement                  -0.086205      -0.245375  0.086348  0.488283  \n",
       "slag                    -0.277559      -0.289685 -0.042759  0.103374  \n",
       "flyash                  -0.026468       0.090262 -0.158940 -0.080648  \n",
       "water                   -0.212480      -0.444915  0.279284 -0.269624  \n",
       "superplasticizer        -0.241721       0.207993 -0.194076  0.344209  \n",
       "coarseaggregate          1.000000      -0.162187 -0.005264 -0.144717  \n",
       "fineaggregate           -0.162187       1.000000 -0.156572 -0.186448  \n",
       "age                     -0.005264      -0.156572  1.000000  0.337367  \n",
       "csMPa                   -0.144717      -0.186448  0.337367  1.000000  "
      ]
     },
     "execution_count": 11,
     "metadata": {},
     "output_type": "execute_result"
    }
   ],
   "source": [
    "correlation_matrix=df.corr()\n",
    "correlation_matrix"
   ]
  },
  {
   "cell_type": "code",
   "execution_count": 12,
   "id": "97b042dd-f9b5-4ad3-bf4d-33cad7427a49",
   "metadata": {},
   "outputs": [
    {
     "name": "stderr",
     "output_type": "stream",
     "text": [
      "C:\\Users\\ankom\\anaconda3\\Lib\\site-packages\\seaborn\\_oldcore.py:1119: FutureWarning: use_inf_as_na option is deprecated and will be removed in a future version. Convert inf values to NaN before operating instead.\n",
      "  with pd.option_context('mode.use_inf_as_na', True):\n"
     ]
    },
    {
     "data": {
      "text/plain": [
       "<Axes: xlabel='cement', ylabel='Count'>"
      ]
     },
     "execution_count": 12,
     "metadata": {},
     "output_type": "execute_result"
    },
    {
     "data": {
      "image/png": "[encoded data removed]",
      "text/plain": [
       "<Figure size 640x480 with 1 Axes>"
      ]
     },
     "metadata": {},
     "output_type": "display_data"
    }
   ],
   "source": [
    "sns.histplot(df[\"cement\"],kde=True)"
   ]
  },
  {
   "cell_type": "code",
   "execution_count": 13,
   "id": "b141e789-9062-4130-bc19-4a0699fdd21e",
   "metadata": {},
   "outputs": [
    {
     "name": "stderr",
     "output_type": "stream",
     "text": [
      "C:\\Users\\ankom\\anaconda3\\Lib\\site-packages\\seaborn\\_oldcore.py:1119: FutureWarning: use_inf_as_na option is deprecated and will be removed in a future version. Convert inf values to NaN before operating instead.\n",
      "  with pd.option_context('mode.use_inf_as_na', True):\n"
     ]
    },
    {
     "data": {
      "text/plain": [
       "<Axes: xlabel='flyash', ylabel='Count'>"
      ]
     },
     "execution_count": 13,
     "metadata": {},
     "output_type": "execute_result"
    },
    {
     "data": {
      "image/png": "[encoded data removed]",
      "text/plain": [
       "<Figure size 640x480 with 1 Axes>"
      ]
     },
     "metadata": {},
     "output_type": "display_data"
    }
   ],
   "source": [
    "sns.histplot(df[\"flyash\"],kde=True)"
   ]
  },
  {
   "cell_type": "code",
   "execution_count": 14,
   "id": "d9062a19-965e-46e7-bb5d-ea87b72b2bd8",
   "metadata": {},
   "outputs": [
    {
     "data": {
      "text/plain": [
       "<Axes: xlabel='cement', ylabel='water'>"
      ]
     },
     "execution_count": 14,
     "metadata": {},
     "output_type": "execute_result"
    },
    {
     "data": {
      "image/png": "[encoded data removed]",
      "text/plain": [
       "<Figure size 640x480 with 1 Axes>"
      ]
     },
     "metadata": {},
     "output_type": "display_data"
    }
   ],
   "source": [
    "sns.barplot(data=df,x=\"cement\",y=\"water\")"
   ]
  },
  {
   "cell_type": "code",
   "execution_count": 15,
   "id": "902835cd-fa0b-4ca8-b62c-d303f144bee8",
   "metadata": {},
   "outputs": [],
   "source": [
    "import sklearn\n",
    "from sklearn.preprocessing import StandardScaler"
   ]
  },
  {
   "cell_type": "code",
   "execution_count": 16,
   "id": "f2837a46-3027-454b-8e6e-a7c994eb9d78",
   "metadata": {},
   "outputs": [],
   "source": [
    "Scaler=StandardScaler()\n",
    "scaleddata=Scaler.fit_transform(df)"
   ]
  },
  {
   "cell_type": "code",
   "execution_count": 17,
   "id": "ebe90a84-e352-4bd0-97be-647958afef59",
   "metadata": {},
   "outputs": [],
   "source": [
    "df1=pd.DataFrame(scaleddata,columns=df.columns)"
   ]
  },
  {
   "cell_type": "code",
   "execution_count": 18,
   "id": "8bef82f9-c71e-4f1c-800d-c14f61271808",
   "metadata": {},
   "outputs": [
    {
     "data": {
      "text/html": [
       "<div>\n",
       "<style scoped>\n",
       "    .dataframe tbody tr th:only-of-type {\n",
       "        vertical-align: middle;\n",
       "    }\n",
       "\n",
       "    .dataframe tbody tr th {\n",
       "        vertical-align: top;\n",
       "    }\n",
       "\n",
       "    .dataframe thead th {\n",
       "        text-align: right;\n",
       "    }\n",
       "</style>\n",
       "<table border=\"1\" class=\"dataframe\">\n",
       "  <thead>\n",
       "    <tr style=\"text-align: right;\">\n",
       "      <th></th>\n",
       "      <th>cement</th>\n",
       "      <th>slag</th>\n",
       "      <th>flyash</th>\n",
       "      <th>water</th>\n",
       "      <th>superplasticizer</th>\n",
       "      <th>coarseaggregate</th>\n",
       "      <th>fineaggregate</th>\n",
       "      <th>age</th>\n",
       "      <th>csMPa</th>\n",
       "    </tr>\n",
       "  </thead>\n",
       "  <tbody>\n",
       "    <tr>\n",
       "      <th>0</th>\n",
       "      <td>2.506116</td>\n",
       "      <td>-0.836471</td>\n",
       "      <td>-0.865375</td>\n",
       "      <td>-0.941235</td>\n",
       "      <td>-0.597131</td>\n",
       "      <td>0.846302</td>\n",
       "      <td>-1.204081</td>\n",
       "      <td>-0.280312</td>\n",
       "      <td>2.748689</td>\n",
       "    </tr>\n",
       "    <tr>\n",
       "      <th>1</th>\n",
       "      <td>2.506116</td>\n",
       "      <td>-0.836471</td>\n",
       "      <td>-0.865375</td>\n",
       "      <td>-0.941235</td>\n",
       "      <td>-0.597131</td>\n",
       "      <td>1.039748</td>\n",
       "      <td>-1.204081</td>\n",
       "      <td>-0.280312</td>\n",
       "      <td>1.636671</td>\n",
       "    </tr>\n",
       "    <tr>\n",
       "      <th>2</th>\n",
       "      <td>0.516516</td>\n",
       "      <td>0.818045</td>\n",
       "      <td>-0.865375</td>\n",
       "      <td>2.153185</td>\n",
       "      <td>-1.019640</td>\n",
       "      <td>-0.546508</td>\n",
       "      <td>-2.225246</td>\n",
       "      <td>3.518569</td>\n",
       "      <td>0.308393</td>\n",
       "    </tr>\n",
       "    <tr>\n",
       "      <th>3</th>\n",
       "      <td>0.516516</td>\n",
       "      <td>0.818045</td>\n",
       "      <td>-0.865375</td>\n",
       "      <td>2.153185</td>\n",
       "      <td>-1.019640</td>\n",
       "      <td>-0.546508</td>\n",
       "      <td>-2.225246</td>\n",
       "      <td>5.009865</td>\n",
       "      <td>0.356314</td>\n",
       "    </tr>\n",
       "    <tr>\n",
       "      <th>4</th>\n",
       "      <td>-0.767375</td>\n",
       "      <td>0.700778</td>\n",
       "      <td>-0.865375</td>\n",
       "      <td>0.465320</td>\n",
       "      <td>-1.019640</td>\n",
       "      <td>0.051885</td>\n",
       "      <td>0.657677</td>\n",
       "      <td>4.931375</td>\n",
       "      <td>0.555986</td>\n",
       "    </tr>\n",
       "    <tr>\n",
       "      <th>...</th>\n",
       "      <td>...</td>\n",
       "      <td>...</td>\n",
       "      <td>...</td>\n",
       "      <td>...</td>\n",
       "      <td>...</td>\n",
       "      <td>...</td>\n",
       "      <td>...</td>\n",
       "      <td>...</td>\n",
       "      <td>...</td>\n",
       "    </tr>\n",
       "    <tr>\n",
       "      <th>1000</th>\n",
       "      <td>-0.021395</td>\n",
       "      <td>0.510363</td>\n",
       "      <td>0.541693</td>\n",
       "      <td>-0.116056</td>\n",
       "      <td>0.484495</td>\n",
       "      <td>-1.344795</td>\n",
       "      <td>-0.054648</td>\n",
       "      <td>-0.280312</td>\n",
       "      <td>0.554757</td>\n",
       "    </tr>\n",
       "    <tr>\n",
       "      <th>1001</th>\n",
       "      <td>0.417755</td>\n",
       "      <td>-0.836471</td>\n",
       "      <td>0.935921</td>\n",
       "      <td>0.652861</td>\n",
       "      <td>0.738001</td>\n",
       "      <td>-2.017987</td>\n",
       "      <td>0.506993</td>\n",
       "      <td>-0.280312</td>\n",
       "      <td>-0.250074</td>\n",
       "    </tr>\n",
       "    <tr>\n",
       "      <th>1002</th>\n",
       "      <td>-1.247756</td>\n",
       "      <td>0.782052</td>\n",
       "      <td>0.826846</td>\n",
       "      <td>0.498140</td>\n",
       "      <td>0.011284</td>\n",
       "      <td>-1.057205</td>\n",
       "      <td>0.091055</td>\n",
       "      <td>-0.280312</td>\n",
       "      <td>-0.709626</td>\n",
       "    </tr>\n",
       "    <tr>\n",
       "      <th>1003</th>\n",
       "      <td>-1.146118</td>\n",
       "      <td>1.331235</td>\n",
       "      <td>-0.865375</td>\n",
       "      <td>-0.303597</td>\n",
       "      <td>0.890104</td>\n",
       "      <td>0.196324</td>\n",
       "      <td>0.201889</td>\n",
       "      <td>-0.280312</td>\n",
       "      <td>-0.152388</td>\n",
       "    </tr>\n",
       "    <tr>\n",
       "      <th>1004</th>\n",
       "      <td>-0.170016</td>\n",
       "      <td>0.330398</td>\n",
       "      <td>0.354707</td>\n",
       "      <td>0.868532</td>\n",
       "      <td>0.433794</td>\n",
       "      <td>-1.417015</td>\n",
       "      <td>-0.139330</td>\n",
       "      <td>-0.280312</td>\n",
       "      <td>-0.175120</td>\n",
       "    </tr>\n",
       "  </tbody>\n",
       "</table>\n",
       "<p>1005 rows × 9 columns</p>\n",
       "</div>"
      ],
      "text/plain": [
       "        cement      slag    flyash     water  superplasticizer  \\\n",
       "0     2.506116 -0.836471 -0.865375 -0.941235         -0.597131   \n",
       "1     2.506116 -0.836471 -0.865375 -0.941235         -0.597131   \n",
       "2     0.516516  0.818045 -0.865375  2.153185         -1.019640   \n",
       "3     0.516516  0.818045 -0.865375  2.153185         -1.019640   \n",
       "4    -0.767375  0.700778 -0.865375  0.465320         -1.019640   \n",
       "...        ...       ...       ...       ...               ...   \n",
       "1000 -0.021395  0.510363  0.541693 -0.116056          0.484495   \n",
       "1001  0.417755 -0.836471  0.935921  0.652861          0.738001   \n",
       "1002 -1.247756  0.782052  0.826846  0.498140          0.011284   \n",
       "1003 -1.146118  1.331235 -0.865375 -0.303597          0.890104   \n",
       "1004 -0.170016  0.330398  0.354707  0.868532          0.433794   \n",
       "\n",
       "      coarseaggregate  fineaggregate       age     csMPa  \n",
       "0            0.846302      -1.204081 -0.280312  2.748689  \n",
       "1            1.039748      -1.204081 -0.280312  1.636671  \n",
       "2           -0.546508      -2.225246  3.518569  0.308393  \n",
       "3           -0.546508      -2.225246  5.009865  0.356314  \n",
       "4            0.051885       0.657677  4.931375  0.555986  \n",
       "...               ...            ...       ...       ...  \n",
       "1000        -1.344795      -0.054648 -0.280312  0.554757  \n",
       "1001        -2.017987       0.506993 -0.280312 -0.250074  \n",
       "1002        -1.057205       0.091055 -0.280312 -0.709626  \n",
       "1003         0.196324       0.201889 -0.280312 -0.152388  \n",
       "1004        -1.417015      -0.139330 -0.280312 -0.175120  \n",
       "\n",
       "[1005 rows x 9 columns]"
      ]
     },
     "execution_count": 18,
     "metadata": {},
     "output_type": "execute_result"
    }
   ],
   "source": [
    "df1"
   ]
  },
  {
   "cell_type": "code",
   "execution_count": 19,
   "id": "0f5f5ffc-a9d5-4f17-8934-b4e785c49b89",
   "metadata": {},
   "outputs": [],
   "source": [
    "x=df.drop([\"csMPa\"],axis=1)"
   ]
  },
  {
   "cell_type": "code",
   "execution_count": 20,
   "id": "fcd0efae-ef2e-4929-83a5-25e27bd9cdab",
   "metadata": {},
   "outputs": [
    {
     "data": {
      "text/plain": [
       "0       79.99\n",
       "1       61.89\n",
       "2       40.27\n",
       "3       41.05\n",
       "4       44.30\n",
       "        ...  \n",
       "1025    44.28\n",
       "1026    31.18\n",
       "1027    23.70\n",
       "1028    32.77\n",
       "1029    32.40\n",
       "Name: csMPa, Length: 1005, dtype: float64"
      ]
     },
     "execution_count": 20,
     "metadata": {},
     "output_type": "execute_result"
    }
   ],
   "source": [
    "y=df[\"csMPa\"]\n",
    "y"
   ]
  },
  {
   "cell_type": "code",
   "execution_count": 21,
   "id": "3c2bf817-d831-44ff-8b89-9eb891105f65",
   "metadata": {},
   "outputs": [
    {
     "data": {
      "text/plain": [
       "(1005,)"
      ]
     },
     "execution_count": 21,
     "metadata": {},
     "output_type": "execute_result"
    }
   ],
   "source": [
    "y.shape"
   ]
  },
  {
   "cell_type": "code",
   "execution_count": 22,
   "id": "d34f50a5-64e0-4ba5-830d-e0ead972328b",
   "metadata": {},
   "outputs": [],
   "source": [
    "from sklearn.model_selection import train_test_split"
   ]
  },
  {
   "cell_type": "code",
   "execution_count": 23,
   "id": "49845611-260a-4b0a-a87e-4dd8a32a9ea3",
   "metadata": {},
   "outputs": [],
   "source": [
    "x_train,x_test,y_train,y_test=train_test_split(x,y,test_size=0.2,random_state=35)"
   ]
  },
  {
   "cell_type": "code",
   "execution_count": 24,
   "id": "e503db12-edcb-489d-b5e9-d4df92c5a9d8",
   "metadata": {},
   "outputs": [
    {
     "data": {
      "text/html": [
       "<div>\n",
       "<style scoped>\n",
       "    .dataframe tbody tr th:only-of-type {\n",
       "        vertical-align: middle;\n",
       "    }\n",
       "\n",
       "    .dataframe tbody tr th {\n",
       "        vertical-align: top;\n",
       "    }\n",
       "\n",
       "    .dataframe thead th {\n",
       "        text-align: right;\n",
       "    }\n",
       "</style>\n",
       "<table border=\"1\" class=\"dataframe\">\n",
       "  <thead>\n",
       "    <tr style=\"text-align: right;\">\n",
       "      <th></th>\n",
       "      <th>cement</th>\n",
       "      <th>slag</th>\n",
       "      <th>flyash</th>\n",
       "      <th>water</th>\n",
       "      <th>superplasticizer</th>\n",
       "      <th>coarseaggregate</th>\n",
       "      <th>fineaggregate</th>\n",
       "      <th>age</th>\n",
       "    </tr>\n",
       "  </thead>\n",
       "  <tbody>\n",
       "    <tr>\n",
       "      <th>495</th>\n",
       "      <td>387.0</td>\n",
       "      <td>20.0</td>\n",
       "      <td>94.0</td>\n",
       "      <td>157.0</td>\n",
       "      <td>13.9</td>\n",
       "      <td>938.0</td>\n",
       "      <td>845.0</td>\n",
       "      <td>56</td>\n",
       "    </tr>\n",
       "    <tr>\n",
       "      <th>697</th>\n",
       "      <td>108.3</td>\n",
       "      <td>162.4</td>\n",
       "      <td>0.0</td>\n",
       "      <td>203.5</td>\n",
       "      <td>0.0</td>\n",
       "      <td>938.2</td>\n",
       "      <td>849.0</td>\n",
       "      <td>7</td>\n",
       "    </tr>\n",
       "    <tr>\n",
       "      <th>351</th>\n",
       "      <td>213.5</td>\n",
       "      <td>0.0</td>\n",
       "      <td>174.2</td>\n",
       "      <td>154.6</td>\n",
       "      <td>11.7</td>\n",
       "      <td>1052.3</td>\n",
       "      <td>775.5</td>\n",
       "      <td>28</td>\n",
       "    </tr>\n",
       "    <tr>\n",
       "      <th>946</th>\n",
       "      <td>149.5</td>\n",
       "      <td>236.0</td>\n",
       "      <td>0.0</td>\n",
       "      <td>175.8</td>\n",
       "      <td>12.6</td>\n",
       "      <td>846.8</td>\n",
       "      <td>892.7</td>\n",
       "      <td>28</td>\n",
       "    </tr>\n",
       "    <tr>\n",
       "      <th>440</th>\n",
       "      <td>190.3</td>\n",
       "      <td>0.0</td>\n",
       "      <td>125.2</td>\n",
       "      <td>166.6</td>\n",
       "      <td>9.9</td>\n",
       "      <td>1079.0</td>\n",
       "      <td>798.9</td>\n",
       "      <td>28</td>\n",
       "    </tr>\n",
       "    <tr>\n",
       "      <th>...</th>\n",
       "      <td>...</td>\n",
       "      <td>...</td>\n",
       "      <td>...</td>\n",
       "      <td>...</td>\n",
       "      <td>...</td>\n",
       "      <td>...</td>\n",
       "      <td>...</td>\n",
       "      <td>...</td>\n",
       "    </tr>\n",
       "    <tr>\n",
       "      <th>984</th>\n",
       "      <td>154.8</td>\n",
       "      <td>0.0</td>\n",
       "      <td>142.8</td>\n",
       "      <td>193.3</td>\n",
       "      <td>9.1</td>\n",
       "      <td>877.2</td>\n",
       "      <td>867.7</td>\n",
       "      <td>28</td>\n",
       "    </tr>\n",
       "    <tr>\n",
       "      <th>33</th>\n",
       "      <td>475.0</td>\n",
       "      <td>0.0</td>\n",
       "      <td>0.0</td>\n",
       "      <td>228.0</td>\n",
       "      <td>0.0</td>\n",
       "      <td>932.0</td>\n",
       "      <td>594.0</td>\n",
       "      <td>270</td>\n",
       "    </tr>\n",
       "    <tr>\n",
       "      <th>976</th>\n",
       "      <td>298.1</td>\n",
       "      <td>0.0</td>\n",
       "      <td>107.5</td>\n",
       "      <td>163.6</td>\n",
       "      <td>12.8</td>\n",
       "      <td>953.2</td>\n",
       "      <td>784.0</td>\n",
       "      <td>28</td>\n",
       "    </tr>\n",
       "    <tr>\n",
       "      <th>295</th>\n",
       "      <td>168.9</td>\n",
       "      <td>42.2</td>\n",
       "      <td>124.3</td>\n",
       "      <td>158.3</td>\n",
       "      <td>10.8</td>\n",
       "      <td>1080.8</td>\n",
       "      <td>796.2</td>\n",
       "      <td>14</td>\n",
       "    </tr>\n",
       "    <tr>\n",
       "      <th>737</th>\n",
       "      <td>238.0</td>\n",
       "      <td>0.0</td>\n",
       "      <td>0.0</td>\n",
       "      <td>186.0</td>\n",
       "      <td>0.0</td>\n",
       "      <td>1119.0</td>\n",
       "      <td>789.0</td>\n",
       "      <td>28</td>\n",
       "    </tr>\n",
       "  </tbody>\n",
       "</table>\n",
       "<p>804 rows × 8 columns</p>\n",
       "</div>"
      ],
      "text/plain": [
       "     cement   slag  flyash  water  superplasticizer  coarseaggregate  \\\n",
       "495   387.0   20.0    94.0  157.0              13.9            938.0   \n",
       "697   108.3  162.4     0.0  203.5               0.0            938.2   \n",
       "351   213.5    0.0   174.2  154.6              11.7           1052.3   \n",
       "946   149.5  236.0     0.0  175.8              12.6            846.8   \n",
       "440   190.3    0.0   125.2  166.6               9.9           1079.0   \n",
       "..      ...    ...     ...    ...               ...              ...   \n",
       "984   154.8    0.0   142.8  193.3               9.1            877.2   \n",
       "33    475.0    0.0     0.0  228.0               0.0            932.0   \n",
       "976   298.1    0.0   107.5  163.6              12.8            953.2   \n",
       "295   168.9   42.2   124.3  158.3              10.8           1080.8   \n",
       "737   238.0    0.0     0.0  186.0               0.0           1119.0   \n",
       "\n",
       "     fineaggregate  age  \n",
       "495          845.0   56  \n",
       "697          849.0    7  \n",
       "351          775.5   28  \n",
       "946          892.7   28  \n",
       "440          798.9   28  \n",
       "..             ...  ...  \n",
       "984          867.7   28  \n",
       "33           594.0  270  \n",
       "976          784.0   28  \n",
       "295          796.2   14  \n",
       "737          789.0   28  \n",
       "\n",
       "[804 rows x 8 columns]"
      ]
     },
     "execution_count": 24,
     "metadata": {},
     "output_type": "execute_result"
    }
   ],
   "source": [
    "x_train"
   ]
  },
  {
   "cell_type": "code",
   "execution_count": null,
   "id": "1b069de0-9e7b-4ae8-986a-e07d06fd1968",
   "metadata": {},
   "outputs": [],
   "source": []
  },
  {
   "cell_type": "code",
   "execution_count": 25,
   "id": "f57cc538-9cf2-44bd-9b66-3ef552a3b401",
   "metadata": {},
   "outputs": [],
   "source": [
    "from sklearn.linear_model import LinearRegression\n",
    "from sklearn.metrics import mean_squared_error\n",
    "from sklearn.metrics import r2_score"
   ]
  },
  {
   "cell_type": "code",
   "execution_count": 26,
   "id": "41306f7e-0afb-4519-91b0-f26bed3d1b6e",
   "metadata": {},
   "outputs": [
    {
     "data": {
      "text/html": [
       "<style>#sk-container-id-1 {color: black;background-color: white;}#sk-container-id-1 pre{padding: 0;}#sk-container-id-1 div.sk-toggleable {background-color: white;}#sk-container-id-1 label.sk-toggleable__label {cursor: pointer;display: block;width: 100%;margin-bottom: 0;padding: 0.3em;box-sizing: border-box;text-align: center;}#sk-container-id-1 label.sk-toggleable__label-arrow:before {content: \"▸\";float: left;margin-right: 0.25em;color: #696969;}#sk-container-id-1 label.sk-toggleable__label-arrow:hover:before {color: black;}#sk-container-id-1 div.sk-estimator:hover label.sk-toggleable__label-arrow:before {color: black;}#sk-container-id-1 div.sk-toggleable__content {max-height: 0;max-width: 0;overflow: hidden;text-align: left;background-color: #f0f8ff;}#sk-container-id-1 div.sk-toggleable__content pre {margin: 0.2em;color: black;border-radius: 0.25em;background-color: #f0f8ff;}#sk-container-id-1 input.sk-toggleable__control:checked~div.sk-toggleable__content {max-height: 200px;max-width: 100%;overflow: auto;}#sk-container-id-1 input.sk-toggleable__control:checked~label.sk-toggleable__label-arrow:before {content: \"▾\";}#sk-container-id-1 div.sk-estimator input.sk-toggleable__control:checked~label.sk-toggleable__label {background-color: #d4ebff;}#sk-container-id-1 div.sk-label input.sk-toggleable__control:checked~label.sk-toggleable__label {background-color: #d4ebff;}#sk-container-id-1 input.sk-hidden--visually {border: 0;clip: rect(1px 1px 1px 1px);clip: rect(1px, 1px, 1px, 1px);height: 1px;margin: -1px;overflow: hidden;padding: 0;position: absolute;width: 1px;}#sk-container-id-1 div.sk-estimator {font-family: monospace;background-color: #f0f8ff;border: 1px dotted black;border-radius: 0.25em;box-sizing: border-box;margin-bottom: 0.5em;}#sk-container-id-1 div.sk-estimator:hover {background-color: #d4ebff;}#sk-container-id-1 div.sk-parallel-item::after {content: \"\";width: 100%;border-bottom: 1px solid gray;flex-grow: 1;}#sk-container-id-1 div.sk-label:hover label.sk-toggleable__label {background-color: #d4ebff;}#sk-container-id-1 div.sk-serial::before {content: \"\";position: absolute;border-left: 1px solid gray;box-sizing: border-box;top: 0;bottom: 0;left: 50%;z-index: 0;}#sk-container-id-1 div.sk-serial {display: flex;flex-direction: column;align-items: center;background-color: white;padding-right: 0.2em;padding-left: 0.2em;position: relative;}#sk-container-id-1 div.sk-item {position: relative;z-index: 1;}#sk-container-id-1 div.sk-parallel {display: flex;align-items: stretch;justify-content: center;background-color: white;position: relative;}#sk-container-id-1 div.sk-item::before, #sk-container-id-1 div.sk-parallel-item::before {content: \"\";position: absolute;border-left: 1px solid gray;box-sizing: border-box;top: 0;bottom: 0;left: 50%;z-index: -1;}#sk-container-id-1 div.sk-parallel-item {display: flex;flex-direction: column;z-index: 1;position: relative;background-color: white;}#sk-container-id-1 div.sk-parallel-item:first-child::after {align-self: flex-end;width: 50%;}#sk-container-id-1 div.sk-parallel-item:last-child::after {align-self: flex-start;width: 50%;}#sk-container-id-1 div.sk-parallel-item:only-child::after {width: 0;}#sk-container-id-1 div.sk-dashed-wrapped {border: 1px dashed gray;margin: 0 0.4em 0.5em 0.4em;box-sizing: border-box;padding-bottom: 0.4em;background-color: white;}#sk-container-id-1 div.sk-label label {font-family: monospace;font-weight: bold;display: inline-block;line-height: 1.2em;}#sk-container-id-1 div.sk-label-container {text-align: center;}#sk-container-id-1 div.sk-container {/* jupyter's `normalize.less` sets `[hidden] { display: none; }` but bootstrap.min.css set `[hidden] { display: none !important; }` so we also need the `!important` here to be able to override the default hidden behavior on the sphinx rendered scikit-learn.org. See: https://github.com/scikit-learn/scikit-learn/issues/21755 */display: inline-block !important;position: relative;}#sk-container-id-1 div.sk-text-repr-fallback {display: none;}</style><div id=\"sk-container-id-1\" class=\"sk-top-container\"><div class=\"sk-text-repr-fallback\"><pre>LinearRegression()</pre><b>In a Jupyter environment, please rerun this cell to show the HTML representation or trust the notebook. <br />On GitHub, the HTML representation is unable to render, please try loading this page with nbviewer.org.</b></div><div class=\"sk-container\" hidden><div class=\"sk-item\"><div class=\"sk-estimator sk-toggleable\"><input class=\"sk-toggleable__control sk-hidden--visually\" id=\"sk-estimator-id-1\" type=\"checkbox\" checked><label for=\"sk-estimator-id-1\" class=\"sk-toggleable__label sk-toggleable__label-arrow\">LinearRegression</label><div class=\"sk-toggleable__content\"><pre>LinearRegression()</pre></div></div></div></div></div>"
      ],
      "text/plain": [
       "LinearRegression()"
      ]
     },
     "execution_count": 26,
     "metadata": {},
     "output_type": "execute_result"
    }
   ],
   "source": [
    "lin=LinearRegression()\n",
    "lin.fit(x_train,y_train)"
   ]
  },
  {
   "cell_type": "code",
   "execution_count": 27,
   "id": "b27c6e29-89e7-43f7-a420-cbb75e42d0ef",
   "metadata": {},
   "outputs": [
    {
     "data": {
      "text/plain": [
       "array([25.64048386, 28.67693878, 40.76452106, 32.01240413, 49.27099729,\n",
       "       54.19105947, 26.62803573, 49.13374204, 23.02752937, 40.20028095,\n",
       "       32.55290689, 33.39851847, 27.20871297, 31.46870985, 31.72677101,\n",
       "       26.39392465, 45.61248004, 52.27808378, 25.5076048 , 33.85907086,\n",
       "       47.54543898, 18.84401099, 20.92874147, 43.8153111 , 67.20026599,\n",
       "       53.6323121 , 49.94322797, 43.73061717, 22.71652234, 61.29879993,\n",
       "       38.02985242, 28.69646882, 47.0259596 , 20.57702394, 52.92299384,\n",
       "       28.19311862, 33.39743096, 19.01535045, 20.19540627, 33.73435822,\n",
       "       20.62553946, 50.09299767, 31.84318509, 19.98237834, 19.5156154 ,\n",
       "       30.83088579, 40.14430435, 18.60343257, 48.01220192, 54.80380627,\n",
       "       46.21039318, 13.08014948, 49.8697206 , 29.27477721, 44.27879084,\n",
       "       38.37223726, 58.22406795, 32.828568  , 23.99494523, 64.70365902,\n",
       "       40.29165034, 43.27204853, 32.00240798, 42.09554017, 63.95074771,\n",
       "       50.21910159, 28.97264906, 25.06023085, 35.01825708, 23.44458378,\n",
       "       57.35214272, 27.87548835, 41.718994  , 26.60164225, 57.99592979,\n",
       "       39.94855032, 47.64249224, 56.11464618, 29.39129192, 21.05393801,\n",
       "       21.9445918 , 51.30147706, 24.35610124, 49.92613073, 30.33435173,\n",
       "       36.68451139, 19.23919798, 42.05886467, 47.33944947, 31.16019354,\n",
       "       39.59861519, 17.29499547, 31.71210753, 60.6194833 , 31.55011906,\n",
       "       30.37759318, 25.19995939, 42.31628796, 25.92987493, 67.48340887,\n",
       "       28.35848643, 45.65760533, 26.51213542, 23.24249953, 40.05740697,\n",
       "       33.19339732, 31.91564431, 50.50165257, 24.28815349, 70.13376951,\n",
       "       35.96527812, 22.22099286, 29.26318628, 37.07867169, 16.34468206,\n",
       "       24.71942128, 52.02636515, 37.64287892, 26.47520399, 20.7919941 ,\n",
       "       22.43288377, 23.09016826, 28.37017941, 19.46828737, 32.24109455,\n",
       "       24.14669372, 61.35313837, 21.08657976, 26.5777152 , 57.01932307,\n",
       "       48.10811076, 40.03795816, 14.02623441, 23.51236787, 37.54341526,\n",
       "       27.15633806, 53.75198249, 41.00625051, 21.67670434, 58.66685381,\n",
       "       35.80280826, 18.16931139, 47.13844814, 35.63746621, 33.67604028,\n",
       "       13.42741368, 20.29038842, 33.0677517 , 26.59719915, 27.4121124 ,\n",
       "       30.45576244, 36.48421863, 37.14629555, 52.48224486, 31.6835908 ,\n",
       "       61.76556286, 60.64194763, 21.72702487, 28.33629503, 23.57950762,\n",
       "       32.88553989, 15.03245562, 49.03699644, 38.93772346, 41.00307594,\n",
       "       34.87031562, 60.13850527, 23.05709937, 30.98992153, 72.08943852,\n",
       "       11.77848595, 24.0343149 , 47.22664053, 24.75198397, 52.09195939,\n",
       "       24.30260235, 23.88899748, 31.82254576, 60.54912302, 47.81734263,\n",
       "       30.96414467, 46.04280436, 36.65162659, 20.97172911, 43.73838854,\n",
       "       38.27723366, 29.99838456, 33.21687805, 25.74261319, 34.67202273,\n",
       "       54.37152334, 13.78331226, 53.19347131, 14.69575432, 35.11649707,\n",
       "       35.42794418, 25.07595576, 21.94584415, 33.36293602, 31.51197111,\n",
       "       56.55034263])"
      ]
     },
     "execution_count": 27,
     "metadata": {},
     "output_type": "execute_result"
    }
   ],
   "source": [
    "y_pred=lin.predict(x_test)\n",
    "y_pred"
   ]
  },
  {
   "cell_type": "code",
   "execution_count": 28,
   "id": "1c1158a8-b90a-4ff9-86b7-0c0315e42f6d",
   "metadata": {},
   "outputs": [
    {
     "data": {
      "text/plain": [
       "112.45362490648093"
      ]
     },
     "execution_count": 28,
     "metadata": {},
     "output_type": "execute_result"
    }
   ],
   "source": [
    "mean_squared_error(y_pred,y_test)"
   ]
  },
  {
   "cell_type": "code",
   "execution_count": 29,
   "id": "e04e5691-a25c-47e4-9085-030b4bb4e663",
   "metadata": {},
   "outputs": [
    {
     "data": {
      "text/plain": [
       "0.6102954336540638"
      ]
     },
     "execution_count": 29,
     "metadata": {},
     "output_type": "execute_result"
    }
   ],
   "source": [
    "lin.score(x_train,y_train)"
   ]
  },
  {
   "cell_type": "code",
   "execution_count": 30,
   "id": "03debde1-a041-4709-838a-b1b554e24acf",
   "metadata": {},
   "outputs": [
    {
     "data": {
      "text/plain": [
       "0.5713347718984425"
      ]
     },
     "execution_count": 30,
     "metadata": {},
     "output_type": "execute_result"
    }
   ],
   "source": [
    "lin.score(x_test,y_test)"
   ]
  },
  {
   "cell_type": "code",
   "execution_count": 31,
   "id": "1e6842d0-85ae-42e4-9ee8-d50521713a37",
   "metadata": {},
   "outputs": [
    {
     "data": {
      "text/plain": [
       "0.5713347718984425"
      ]
     },
     "execution_count": 31,
     "metadata": {},
     "output_type": "execute_result"
    }
   ],
   "source": [
    "r2 = r2_score(y_test, y_pred)\n",
    "r2"
   ]
  },
  {
   "cell_type": "code",
   "execution_count": 32,
   "id": "ebbe22a2-2366-4fb8-a1e4-21f95bf27be4",
   "metadata": {},
   "outputs": [
    {
     "data": {
      "text/html": [
       "<style>#sk-container-id-2 {color: black;background-color: white;}#sk-container-id-2 pre{padding: 0;}#sk-container-id-2 div.sk-toggleable {background-color: white;}#sk-container-id-2 label.sk-toggleable__label {cursor: pointer;display: block;width: 100%;margin-bottom: 0;padding: 0.3em;box-sizing: border-box;text-align: center;}#sk-container-id-2 label.sk-toggleable__label-arrow:before {content: \"▸\";float: left;margin-right: 0.25em;color: #696969;}#sk-container-id-2 label.sk-toggleable__label-arrow:hover:before {color: black;}#sk-container-id-2 div.sk-estimator:hover label.sk-toggleable__label-arrow:before {color: black;}#sk-container-id-2 div.sk-toggleable__content {max-height: 0;max-width: 0;overflow: hidden;text-align: left;background-color: #f0f8ff;}#sk-container-id-2 div.sk-toggleable__content pre {margin: 0.2em;color: black;border-radius: 0.25em;background-color: #f0f8ff;}#sk-container-id-2 input.sk-toggleable__control:checked~div.sk-toggleable__content {max-height: 200px;max-width: 100%;overflow: auto;}#sk-container-id-2 input.sk-toggleable__control:checked~label.sk-toggleable__label-arrow:before {content: \"▾\";}#sk-container-id-2 div.sk-estimator input.sk-toggleable__control:checked~label.sk-toggleable__label {background-color: #d4ebff;}#sk-container-id-2 div.sk-label input.sk-toggleable__control:checked~label.sk-toggleable__label {background-color: #d4ebff;}#sk-container-id-2 input.sk-hidden--visually {border: 0;clip: rect(1px 1px 1px 1px);clip: rect(1px, 1px, 1px, 1px);height: 1px;margin: -1px;overflow: hidden;padding: 0;position: absolute;width: 1px;}#sk-container-id-2 div.sk-estimator {font-family: monospace;background-color: #f0f8ff;border: 1px dotted black;border-radius: 0.25em;box-sizing: border-box;margin-bottom: 0.5em;}#sk-container-id-2 div.sk-estimator:hover {background-color: #d4ebff;}#sk-container-id-2 div.sk-parallel-item::after {content: \"\";width: 100%;border-bottom: 1px solid gray;flex-grow: 1;}#sk-container-id-2 div.sk-label:hover label.sk-toggleable__label {background-color: #d4ebff;}#sk-container-id-2 div.sk-serial::before {content: \"\";position: absolute;border-left: 1px solid gray;box-sizing: border-box;top: 0;bottom: 0;left: 50%;z-index: 0;}#sk-container-id-2 div.sk-serial {display: flex;flex-direction: column;align-items: center;background-color: white;padding-right: 0.2em;padding-left: 0.2em;position: relative;}#sk-container-id-2 div.sk-item {position: relative;z-index: 1;}#sk-container-id-2 div.sk-parallel {display: flex;align-items: stretch;justify-content: center;background-color: white;position: relative;}#sk-container-id-2 div.sk-item::before, #sk-container-id-2 div.sk-parallel-item::before {content: \"\";position: absolute;border-left: 1px solid gray;box-sizing: border-box;top: 0;bottom: 0;left: 50%;z-index: -1;}#sk-container-id-2 div.sk-parallel-item {display: flex;flex-direction: column;z-index: 1;position: relative;background-color: white;}#sk-container-id-2 div.sk-parallel-item:first-child::after {align-self: flex-end;width: 50%;}#sk-container-id-2 div.sk-parallel-item:last-child::after {align-self: flex-start;width: 50%;}#sk-container-id-2 div.sk-parallel-item:only-child::after {width: 0;}#sk-container-id-2 div.sk-dashed-wrapped {border: 1px dashed gray;margin: 0 0.4em 0.5em 0.4em;box-sizing: border-box;padding-bottom: 0.4em;background-color: white;}#sk-container-id-2 div.sk-label label {font-family: monospace;font-weight: bold;display: inline-block;line-height: 1.2em;}#sk-container-id-2 div.sk-label-container {text-align: center;}#sk-container-id-2 div.sk-container {/* jupyter's `normalize.less` sets `[hidden] { display: none; }` but bootstrap.min.css set `[hidden] { display: none !important; }` so we also need the `!important` here to be able to override the default hidden behavior on the sphinx rendered scikit-learn.org. See: https://github.com/scikit-learn/scikit-learn/issues/21755 */display: inline-block !important;position: relative;}#sk-container-id-2 div.sk-text-repr-fallback {display: none;}</style><div id=\"sk-container-id-2\" class=\"sk-top-container\"><div class=\"sk-text-repr-fallback\"><pre>DecisionTreeRegressor(max_depth=30, max_features=10)</pre><b>In a Jupyter environment, please rerun this cell to show the HTML representation or trust the notebook. <br />On GitHub, the HTML representation is unable to render, please try loading this page with nbviewer.org.</b></div><div class=\"sk-container\" hidden><div class=\"sk-item\"><div class=\"sk-estimator sk-toggleable\"><input class=\"sk-toggleable__control sk-hidden--visually\" id=\"sk-estimator-id-2\" type=\"checkbox\" checked><label for=\"sk-estimator-id-2\" class=\"sk-toggleable__label sk-toggleable__label-arrow\">DecisionTreeRegressor</label><div class=\"sk-toggleable__content\"><pre>DecisionTreeRegressor(max_depth=30, max_features=10)</pre></div></div></div></div></div>"
      ],
      "text/plain": [
       "DecisionTreeRegressor(max_depth=30, max_features=10)"
      ]
     },
     "execution_count": 32,
     "metadata": {},
     "output_type": "execute_result"
    }
   ],
   "source": [
    "from sklearn.tree import DecisionTreeRegressor\n",
    "dt=DecisionTreeRegressor(max_depth=30,max_features=10)\n",
    "dt.fit(x_train,y_train)"
   ]
  },
  {
   "cell_type": "code",
   "execution_count": 33,
   "id": "605e5cb6-2e83-49fa-b53f-3720e9ef6738",
   "metadata": {},
   "outputs": [
    {
     "data": {
      "text/plain": [
       "0.9961269024189578"
      ]
     },
     "execution_count": 33,
     "metadata": {},
     "output_type": "execute_result"
    }
   ],
   "source": [
    "dt.score(x_train,y_train)"
   ]
  },
  {
   "cell_type": "code",
   "execution_count": 34,
   "id": "73cf8467-8c4a-44e1-b3c3-4f0901d08797",
   "metadata": {},
   "outputs": [
    {
     "data": {
      "text/plain": [
       "0.8747299890124888"
      ]
     },
     "execution_count": 34,
     "metadata": {},
     "output_type": "execute_result"
    }
   ],
   "source": [
    "dt.score(x_test,y_test)"
   ]
  },
  {
   "cell_type": "code",
   "execution_count": 35,
   "id": "099c5eb7-4d15-4eaf-b89c-d0734b16df2d",
   "metadata": {},
   "outputs": [
    {
     "data": {
      "text/plain": [
       "0.8747299890124888"
      ]
     },
     "execution_count": 35,
     "metadata": {},
     "output_type": "execute_result"
    }
   ],
   "source": [
    "y_pred_dt=dt.predict(x_test)\n",
    "r2_dt=r2_score(y_test,y_pred_dt)\n",
    "r2_dt"
   ]
  },
  {
   "cell_type": "code",
   "execution_count": 36,
   "id": "c92ac0c4-d04b-43d4-a178-deb84f2ef2c4",
   "metadata": {},
   "outputs": [],
   "source": [
    "from sklearn.ensemble import RandomForestRegressor"
   ]
  },
  {
   "cell_type": "code",
   "execution_count": 37,
   "id": "b6e1a055-4048-4bec-8ea1-1c4fe6a031cf",
   "metadata": {},
   "outputs": [
    {
     "data": {
      "text/html": [
       "<style>#sk-container-id-3 {color: black;background-color: white;}#sk-container-id-3 pre{padding: 0;}#sk-container-id-3 div.sk-toggleable {background-color: white;}#sk-container-id-3 label.sk-toggleable__label {cursor: pointer;display: block;width: 100%;margin-bottom: 0;padding: 0.3em;box-sizing: border-box;text-align: center;}#sk-container-id-3 label.sk-toggleable__label-arrow:before {content: \"▸\";float: left;margin-right: 0.25em;color: #696969;}#sk-container-id-3 label.sk-toggleable__label-arrow:hover:before {color: black;}#sk-container-id-3 div.sk-estimator:hover label.sk-toggleable__label-arrow:before {color: black;}#sk-container-id-3 div.sk-toggleable__content {max-height: 0;max-width: 0;overflow: hidden;text-align: left;background-color: #f0f8ff;}#sk-container-id-3 div.sk-toggleable__content pre {margin: 0.2em;color: black;border-radius: 0.25em;background-color: #f0f8ff;}#sk-container-id-3 input.sk-toggleable__control:checked~div.sk-toggleable__content {max-height: 200px;max-width: 100%;overflow: auto;}#sk-container-id-3 input.sk-toggleable__control:checked~label.sk-toggleable__label-arrow:before {content: \"▾\";}#sk-container-id-3 div.sk-estimator input.sk-toggleable__control:checked~label.sk-toggleable__label {background-color: #d4ebff;}#sk-container-id-3 div.sk-label input.sk-toggleable__control:checked~label.sk-toggleable__label {background-color: #d4ebff;}#sk-container-id-3 input.sk-hidden--visually {border: 0;clip: rect(1px 1px 1px 1px);clip: rect(1px, 1px, 1px, 1px);height: 1px;margin: -1px;overflow: hidden;padding: 0;position: absolute;width: 1px;}#sk-container-id-3 div.sk-estimator {font-family: monospace;background-color: #f0f8ff;border: 1px dotted black;border-radius: 0.25em;box-sizing: border-box;margin-bottom: 0.5em;}#sk-container-id-3 div.sk-estimator:hover {background-color: #d4ebff;}#sk-container-id-3 div.sk-parallel-item::after {content: \"\";width: 100%;border-bottom: 1px solid gray;flex-grow: 1;}#sk-container-id-3 div.sk-label:hover label.sk-toggleable__label {background-color: #d4ebff;}#sk-container-id-3 div.sk-serial::before {content: \"\";position: absolute;border-left: 1px solid gray;box-sizing: border-box;top: 0;bottom: 0;left: 50%;z-index: 0;}#sk-container-id-3 div.sk-serial {display: flex;flex-direction: column;align-items: center;background-color: white;padding-right: 0.2em;padding-left: 0.2em;position: relative;}#sk-container-id-3 div.sk-item {position: relative;z-index: 1;}#sk-container-id-3 div.sk-parallel {display: flex;align-items: stretch;justify-content: center;background-color: white;position: relative;}#sk-container-id-3 div.sk-item::before, #sk-container-id-3 div.sk-parallel-item::before {content: \"\";position: absolute;border-left: 1px solid gray;box-sizing: border-box;top: 0;bottom: 0;left: 50%;z-index: -1;}#sk-container-id-3 div.sk-parallel-item {display: flex;flex-direction: column;z-index: 1;position: relative;background-color: white;}#sk-container-id-3 div.sk-parallel-item:first-child::after {align-self: flex-end;width: 50%;}#sk-container-id-3 div.sk-parallel-item:last-child::after {align-self: flex-start;width: 50%;}#sk-container-id-3 div.sk-parallel-item:only-child::after {width: 0;}#sk-container-id-3 div.sk-dashed-wrapped {border: 1px dashed gray;margin: 0 0.4em 0.5em 0.4em;box-sizing: border-box;padding-bottom: 0.4em;background-color: white;}#sk-container-id-3 div.sk-label label {font-family: monospace;font-weight: bold;display: inline-block;line-height: 1.2em;}#sk-container-id-3 div.sk-label-container {text-align: center;}#sk-container-id-3 div.sk-container {/* jupyter's `normalize.less` sets `[hidden] { display: none; }` but bootstrap.min.css set `[hidden] { display: none !important; }` so we also need the `!important` here to be able to override the default hidden behavior on the sphinx rendered scikit-learn.org. See: https://github.com/scikit-learn/scikit-learn/issues/21755 */display: inline-block !important;position: relative;}#sk-container-id-3 div.sk-text-repr-fallback {display: none;}</style><div id=\"sk-container-id-3\" class=\"sk-top-container\"><div class=\"sk-text-repr-fallback\"><pre>RandomForestRegressor(n_estimators=50, random_state=5)</pre><b>In a Jupyter environment, please rerun this cell to show the HTML representation or trust the notebook. <br />On GitHub, the HTML representation is unable to render, please try loading this page with nbviewer.org.</b></div><div class=\"sk-container\" hidden><div class=\"sk-item\"><div class=\"sk-estimator sk-toggleable\"><input class=\"sk-toggleable__control sk-hidden--visually\" id=\"sk-estimator-id-3\" type=\"checkbox\" checked><label for=\"sk-estimator-id-3\" class=\"sk-toggleable__label sk-toggleable__label-arrow\">RandomForestRegressor</label><div class=\"sk-toggleable__content\"><pre>RandomForestRegressor(n_estimators=50, random_state=5)</pre></div></div></div></div></div>"
      ],
      "text/plain": [
       "RandomForestRegressor(n_estimators=50, random_state=5)"
      ]
     },
     "execution_count": 37,
     "metadata": {},
     "output_type": "execute_result"
    }
   ],
   "source": [
    "rf=RandomForestRegressor(n_estimators=50,random_state=5)\n",
    "rf"
   ]
  },
  {
   "cell_type": "code",
   "execution_count": 38,
   "id": "3f621898-5647-4be7-a49e-00c398b1eb2f",
   "metadata": {},
   "outputs": [
    {
     "data": {
      "text/plain": [
       "0.9824623822626735"
      ]
     },
     "execution_count": 38,
     "metadata": {},
     "output_type": "execute_result"
    }
   ],
   "source": [
    "rf.fit(x_train,y_train)\n",
    "rf.score(x_train,y_train)\n"
   ]
  },
  {
   "cell_type": "code",
   "execution_count": 39,
   "id": "22d3cca0-3840-4dd2-ac4b-22410009a7a2",
   "metadata": {},
   "outputs": [
    {
     "data": {
      "text/plain": [
       "0.9273740986584329"
      ]
     },
     "execution_count": 39,
     "metadata": {},
     "output_type": "execute_result"
    }
   ],
   "source": [
    "rf.score(x_test,y_test)"
   ]
  },
  {
   "cell_type": "code",
   "execution_count": 40,
   "id": "7d5dddb6-a193-4adb-8875-1c921162ed52",
   "metadata": {},
   "outputs": [
    {
     "data": {
      "text/plain": [
       "0.9273740986584329"
      ]
     },
     "execution_count": 40,
     "metadata": {},
     "output_type": "execute_result"
    }
   ],
   "source": [
    "y_pred_rf = rf.predict(x_test)\n",
    "r2_rf = r2_score(y_test, y_pred_rf)\n",
    "r2_rf"
   ]
  },
  {
   "cell_type": "code",
   "execution_count": 41,
   "id": "e7e4e569-6675-411f-bbd3-0d1361e9e92c",
   "metadata": {},
   "outputs": [
    {
     "data": {
      "text/plain": [
       "19.052270472530097"
      ]
     },
     "execution_count": 41,
     "metadata": {},
     "output_type": "execute_result"
    }
   ],
   "source": [
    "mean_squared_error(y_pred_rf,y_test)"
   ]
  },
  {
   "cell_type": "code",
   "execution_count": 43,
   "id": "c7530f53-c954-45c8-80db-03944431a4da",
   "metadata": {},
   "outputs": [
    {
     "name": "stdout",
     "output_type": "stream",
     "text": [
      "XGBRgressor mse: 14.807200010578413\n",
      "XGBRgressor rmse: 3.8480124753667853\n"
     ]
    }
   ],
   "source": [
    "from xgboost import XGBRegressor\n",
    "from math import sqrt\n",
    "xg=XGBRegressor()\n",
    "xg.fit(x_train,y_train)\n",
    "y_pred=xg.predict(x_test)\n",
    "mse=mean_squared_error(y_test,y_pred)\n",
    "print(\"XGBRgressor mse:\",mse)\n",
    "rmse=sqrt(mse)\n",
    "print(\"XGBRgressor rmse:\",rmse)"
   ]
  },
  {
   "cell_type": "code",
   "execution_count": 49,
   "id": "d9bc9e56-2794-4234-b7c7-45dafc43d85d",
   "metadata": {},
   "outputs": [
    {
     "name": "stdout",
     "output_type": "stream",
     "text": [
      "AdaBoostRegressor MSE: 47.59798460045828\n",
      "AdaBoostRegressor RMSE: 6.899129263933115\n"
     ]
    }
   ],
   "source": [
    "from sklearn.ensemble import AdaBoostRegressor\n",
    "Ada=AdaBoostRegressor()\n",
    "Ada.fit(x_train,y_train)\n",
    "y_pred=Ada.predict(x_test)\n",
    "mse=mean_squared_error(y_test,y_pred)\n",
    "print(\"AdaBoostRegressor MSE:\",mse)\n",
    "rmse=sqrt(mse)\n",
    "print('AdaBoostRegressor RMSE:',rmse)"
   ]
  },
  {
   "cell_type": "code",
   "execution_count": null,
   "id": "44092676-4362-4344-b0f2-ee826fbc8277",
   "metadata": {},
   "outputs": [],
   "source": []
  }
 ],
 "metadata": {
  "kernelspec": {
   "display_name": "Python 3 (ipykernel)",
   "language": "python",
   "name": "python3"
  },
  "language_info": {
   "codemirror_mode": {
    "name": "ipython",
    "version": 3
   },
   "file_extension": ".py",
   "mimetype": "text/x-python",
   "name": "python",
   "nbconvert_exporter": "python",
   "pygments_lexer": "ipython3",
   "version": "3.11.7"
  }
 },
 "nbformat": 4,
 "nbformat_minor": 5
}
